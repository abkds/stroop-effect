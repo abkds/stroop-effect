{
 "cells": [
  {
   "cell_type": "markdown",
   "metadata": {},
   "source": [
    "# Stroop Effect Analysis\n",
    "\n",
    "### Question 1: What are the independent and dependent variables ?\n",
    "**Answer:** The dependent variable is the **time taken to complete the naming of the colors**. The independent variable is whether the **colors shown are congruent or not**. Congruence in this context means that color correspond to their name printed on the screen. "
   ]
  },
  {
   "cell_type": "code",
   "execution_count": 1,
   "metadata": {
    "collapsed": true
   },
   "outputs": [],
   "source": [
    "import numpy as np\n",
    "import pandas as pd\n",
    "import matplotlib.pyplot as pl\n",
    "%matplotlib inline"
   ]
  },
  {
   "cell_type": "code",
   "execution_count": 3,
   "metadata": {
    "collapsed": false
   },
   "outputs": [
    {
     "name": "stdout",
     "output_type": "stream",
     "text": [
      "Stroop data read successfully !\n"
     ]
    }
   ],
   "source": [
    "stroop_data = pd.read_csv('stroopdata.csv');\n",
    "print \"Stroop data read successfully !\""
   ]
  },
  {
   "cell_type": "code",
   "execution_count": 4,
   "metadata": {
    "collapsed": false
   },
   "outputs": [
    {
     "name": "stdout",
     "output_type": "stream",
     "text": [
      "    Congruent  Incongruent\n",
      "0      12.079       19.278\n",
      "1      16.791       18.741\n",
      "2       9.564       21.214\n",
      "3       8.630       15.687\n",
      "4      14.669       22.803\n",
      "5      12.238       20.878\n",
      "6      14.692       24.572\n",
      "7       8.987       17.394\n",
      "8       9.401       20.762\n",
      "9      14.480       26.282\n",
      "10     22.328       24.524\n",
      "11     15.298       18.644\n",
      "12     15.073       17.510\n",
      "13     16.929       20.330\n",
      "14     18.200       35.255\n",
      "15     12.130       22.158\n",
      "16     18.495       25.139\n",
      "17     10.639       20.429\n",
      "18     11.344       17.425\n",
      "19     12.369       34.288\n",
      "20     12.944       23.894\n",
      "21     14.233       17.960\n",
      "22     19.710       22.058\n",
      "23     16.004       21.157\n"
     ]
    }
   ],
   "source": [
    "print stroop_data"
   ]
  },
  {
   "cell_type": "markdown",
   "metadata": {},
   "source": [
    "### Question 2: What is an appropriate set of hypotheses for this task? What kind of statistical test do you expect to perform? Justify your choices.\n",
    "\n",
    "**Answer: ** For this data set null hypotheses should be that, there is no change in reading times in both cases. Alternative hypotheses should be that, there is an increase in reading times when the colors are incongruent. \n",
    "\n",
    "**H<sub>0</sub>**: No change in reading times. (*μ*<sub>2</sub> - *μ*<sub>1</sub> = 0)\n",
    " \n",
    "**H<sub>A</sub>**: Reading time in Incongruent case increases. (*μ*<sub>2</sub> - *μ*<sub>1</sub> ≥ 0)\n",
    "\n",
    "Since this appears like a case, where reading tests are performed on the same set of people for two different conditions. We should perform a dependent t-test for paired samples. "
   ]
  },
  {
   "cell_type": "markdown",
   "metadata": {},
   "source": [
    "### Question 3: Report some descriptive statistics regarding this dataset. Include at least one measure of central tendency and at least one measure of variability.\n",
    "\n",
    "**Answer: **"
   ]
  },
  {
   "cell_type": "code",
   "execution_count": 12,
   "metadata": {
    "collapsed": false
   },
   "outputs": [
    {
     "name": "stdout",
     "output_type": "stream",
     "text": [
      "Mean Congruent reading times: 14.05 s\n",
      "Mean Incongruent reading times: 22.02 s\n",
      "Standard deviation of Congruent reading times: 3.56 s\n",
      "Standard deviation of Incongruent reading times: 3.56 s\n"
     ]
    }
   ],
   "source": [
    "stroop_data_summary = stroop_data.describe()\n",
    "mean_congruent = stroop_data_summary['Congruent'].loc['mean']\n",
    "mean_incongruent = stroop_data_summary['Incongruent'].loc['mean']\n",
    "std_congruent = stroop_data_summary['Congruent'].loc['std']\n",
    "std_incongreunt = stroop_data_summary['Congruent'].loc['std']\n",
    "\n",
    "print \"Mean Congruent reading times: {:.2f} s\".format(mean_congruent)\n",
    "print \"Mean Incongruent reading times: {:.2f} s\".format(mean_incongruent)\n",
    "print \"Standard deviation of Congruent reading times: {:.2f} s\".format(std_congruent)\n",
    "print \"Standard deviation of Incongruent reading times: {:.2f} s\".format(std_incongreunt)"
   ]
  },
  {
   "cell_type": "markdown",
   "metadata": {},
   "source": [
    "### Question 4: Provide one or two visualizations that show the distribution of the sample data. Write one or two sentences noting what you observe about the plot or plots.\n",
    "\n",
    "**Answer: ** "
   ]
  },
  {
   "cell_type": "code",
   "execution_count": 8,
   "metadata": {
    "collapsed": false
   },
   "outputs": [
    {
     "data": {
      "image/png": "[encoded data removed]",
      "text/plain": [
       "<matplotlib.figure.Figure at 0x10c4d5e50>"
      ]
     },
     "metadata": {},
     "output_type": "display_data"
    }
   ],
   "source": [
    "stroop_data.plot.hist(stacked=True, bins=10, alpha=0.3)\n",
    "pl.xlabel('Reading times in seconds')\n",
    "\n",
    "pl.show()"
   ]
  },
  {
   "cell_type": "markdown",
   "metadata": {},
   "source": [
    "As we can see from the plots itself that, congruent reading times overall are lesser than that of incongreunt reading times. Congruent reading times peak at 14-17 while incongruent reading times 18-20, and the entire histogram of incongruent reading times is shifted more to the right compared to congruent reading times. Further more as the calculated standard deviations shows, we can see that standard deviation of incongruent reading times is higher, as it is more spread out compared to that of congruent reading times."
   ]
  },
  {
   "cell_type": "markdown",
   "metadata": {},
   "source": [
    "### Question 5. Now, perform the statistical test and report your results. What is your confidence level and your critical statistic value? Do you reject the null hypothesis or fail to reject it? Come to a conclusion in terms of the experiment task. Did the results match up with your expectations?\n",
    "\n",
    "**Answer: ** Since our alternative hypotheses is that the reading times have increased, we will perform a one-tailed t-test. Taking an *α* level of 0.05, we get the t-statistic for a degree of freedom of 23, equal to 1.714. Now we can quickly do a t-test to determine whether the change is statisically significant or not. Before that we need to prepare the data. "
   ]
  },
  {
   "cell_type": "code",
   "execution_count": 13,
   "metadata": {
    "collapsed": false
   },
   "outputs": [
    {
     "name": "stdout",
     "output_type": "stream",
     "text": [
      "Mean of the difference is 7.9648 s\n",
      "Standard deviation of the difference is 4.8648 s\n"
     ]
    }
   ],
   "source": [
    "difference = stroop_data['Incongruent'] - stroop_data['Congruent']\n",
    "difference_summary = difference.describe()\n",
    "mean_difference = difference_summary.loc['mean']\n",
    "std_difference = difference_summary.loc['std']\n",
    "\n",
    "print \"Mean of the difference is {:.4f} s\".format(mean_difference)\n",
    "print \"Standard deviation of the difference is {:.4f} s\".format(std_difference)"
   ]
  },
  {
   "cell_type": "markdown",
   "metadata": {},
   "source": [
    "Now we have all the ingredients to do the data t-test. First we will calculate the t-statistic which is given by \n",
    "(mean - 0) / (sigma/sqrt(n))"
   ]
  },
  {
   "cell_type": "code",
   "execution_count": 15,
   "metadata": {
    "collapsed": false
   },
   "outputs": [
    {
     "name": "stdout",
     "output_type": "stream",
     "text": [
      "t-statistic for the test is 8.0207\n"
     ]
    }
   ],
   "source": [
    "t_statistic = mean_difference / (std_difference / np.sqrt(24))\n",
    "print \"t-statistic for the test is {:.4f}\".format(t_statistic)"
   ]
  },
  {
   "cell_type": "markdown",
   "metadata": {},
   "source": [
    "We can clearly see that this is much larger than the critical value of 1.714 and it's p-value is less than 0.0001 and hence it is stastically significant. Therefore we can reject the null, which means we can 'accept' our alternative hypotheses that the reading times in case of incongruent colors are statistically higher and different."
   ]
  },
  {
   "cell_type": "markdown",
   "metadata": {},
   "source": [
    "### Question 6. Optional: What do you think is responsible for the effects observed? Can you think of an alternative or similar task that would result in a similar effect? Some research about the problem will be helpful for thinking about these two questions!\n",
    "\n",
    "**Answer :** There have been various theories on explaining the stroop effect. Citing from the wikipedia, I think that it is because our brain processes words much faster than colors and we need more attention in figuring out the color compared to the word. \n",
    "\n",
    "An alternative task (which has already been performed) and is an extension to the classic stroop test is the emotional stroop test. In emotional stroop test, the task is to name the colors of depressing words compared to normal words. In another type of stroop test, people suffering from a phobia are shown words related to phobia vs words not related to phobia and it has been found that they can name the colors of non-phobic words faster."
   ]
  }
 ],
 "metadata": {
  "kernelspec": {
   "display_name": "Python 2",
   "language": "python",
   "name": "python2"
  },
  "language_info": {
   "codemirror_mode": {
    "name": "ipython",
    "version": 2
   },
   "file_extension": ".py",
   "mimetype": "text/x-python",
   "name": "python",
   "nbconvert_exporter": "python",
   "pygments_lexer": "ipython2",
   "version": "2.7.10"
  }
 },
 "nbformat": 4,
 "nbformat_minor": 0
}
